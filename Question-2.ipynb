{
 "cells": [
  {
   "cell_type": "code",
   "execution_count": 1,
   "metadata": {},
   "outputs": [
    {
     "name": "stdout",
     "output_type": "stream",
     "text": [
      "Enter how many key-value pair you want: 5\n",
      "\n",
      "Enter the username for the  1 user id:Suraj\n",
      "Enter the username for the  2 user id:Keshri\n",
      "Enter the username for the  3 user id:Sun\n",
      "Enter the username for the  4 user id:Moon\n",
      "Enter the username for the  5 user id:Hello\n",
      "This is a key, value pair of user id and username {'1': 'Suraj', '2': 'Keshri', '3': 'Sun', '4': 'Moon', '5': 'Hello'}\n",
      "\n",
      "Now for userid and username  -   Enter the following details\n",
      "\n",
      "Enter the marks for the 1 user id:10\n",
      "Enter the marks for the 2 user id:20\n",
      "Enter the marks for the 3 user id:30\n",
      "Enter the marks for the 4 user id:40\n",
      "Enter the marks for the 5 user id:50\n",
      "This is a key, value pair of user id and exam score {'1': '10', '2': '20', '3': '30', '4': '40', '5': '50'}\n",
      "{'5': 50}\n"
     ]
    }
   ],
   "source": [
    "Dictionary_1={}  #Blank Dictionary\n",
    "Key=(int(input(\"Enter how many key-value pair you want: \")))            #Any number of key-value pair\n",
    "print()\n",
    "for i in range(1,Key+1):\n",
    "    Dictionary_1[str(i)]=input(\"Enter the username for the  \" +str(i)+\" user id:\")\n",
    "print(\"This is a key, value pair of user id and username\",(Dictionary_1))\n",
    "print()\n",
    "print(\"Now for userid and username  -   Enter the following details\")\n",
    "print()\n",
    "Dictionary_2={}   #Blank Dictionary\n",
    "\n",
    "#Key=(int(input(\"Enter how many key-value pair you want: \"))) \n",
    "for i in range(1,Key+1):\n",
    "    Dictionary_2[str(i)]=input(\"Enter the marks for the \" +str(i)+\" user id:\")\n",
    "print(\"This is a key, value pair of user id and exam score\",(Dictionary_2))\n",
    "\n",
    "      #we have to fetch the maximum score key and value  \n",
    "max_key = max(Dictionary_2, key=Dictionary_2.get)    #This will fetch the maximum score key .\n",
    "Dictionary_3={max_key:int(Dictionary_2[max_key])}\n",
    "print(Dictionary_3)"
   ]
  },
  {
   "cell_type": "code",
   "execution_count": null,
   "metadata": {},
   "outputs": [],
   "source": []
  }
 ],
 "metadata": {
  "kernelspec": {
   "display_name": "Python 3",
   "language": "python",
   "name": "python3"
  },
  "language_info": {
   "codemirror_mode": {
    "name": "ipython",
    "version": 3
   },
   "file_extension": ".py",
   "mimetype": "text/x-python",
   "name": "python",
   "nbconvert_exporter": "python",
   "pygments_lexer": "ipython3",
   "version": "3.7.9"
  }
 },
 "nbformat": 4,
 "nbformat_minor": 2
}
