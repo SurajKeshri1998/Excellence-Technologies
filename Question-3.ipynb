{
 "cells": [
  {
   "cell_type": "code",
   "execution_count": 6,
   "metadata": {},
   "outputs": [
    {
     "name": "stdout",
     "output_type": "stream",
     "text": [
      "4\n"
     ]
    }
   ],
   "source": [
    "def getMaxLength(arr, n):\n",
    "    count=0\n",
    "    result=0\n",
    "    \n",
    "    for i in range(0, n):\n",
    "        if(arr[i]==0):\n",
    "            count=0\n",
    "        else:\n",
    "            count+=1\n",
    "            result=max(result, count)\n",
    "    return result\n",
    "\n",
    "arr=[1, 1, 0, 0, 1, 0, 1, 0, 1, 1, 1, 1]\n",
    "n=len(arr)\n",
    "print(getMaxLength(arr, n))"
   ]
  },
  {
   "cell_type": "code",
   "execution_count": null,
   "metadata": {},
   "outputs": [],
   "source": []
  }
 ],
 "metadata": {
  "kernelspec": {
   "display_name": "Python 3",
   "language": "python",
   "name": "python3"
  },
  "language_info": {
   "codemirror_mode": {
    "name": "ipython",
    "version": 3
   },
   "file_extension": ".py",
   "mimetype": "text/x-python",
   "name": "python",
   "nbconvert_exporter": "python",
   "pygments_lexer": "ipython3",
   "version": "3.7.9"
  }
 },
 "nbformat": 4,
 "nbformat_minor": 2
}
